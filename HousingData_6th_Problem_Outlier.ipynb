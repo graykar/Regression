{
 "cells": [
  {
   "cell_type": "code",
   "execution_count": 1,
   "metadata": {},
   "outputs": [
    {
     "name": "stderr",
     "output_type": "stream",
     "text": [
      "C:\\Users\\graykar\\Documents\\Annaconda3\\lib\\site-packages\\sklearn\\ensemble\\weight_boosting.py:29: DeprecationWarning: numpy.core.umath_tests is an internal NumPy module and should not be imported. It will be removed in a future NumPy release.\n",
      "  from numpy.core.umath_tests import inner1d\n"
     ]
    }
   ],
   "source": [
    "import pandas as pd\n",
    "import numpy as np\n",
    "import matplotlib.pyplot as plt\n",
    "from sklearn.linear_model import LinearRegression\n",
    "from sklearn.metrics import r2_score\n",
    "import seaborn as sns\n",
    "from sklearn.ensemble import IsolationForest"
   ]
  },
  {
   "cell_type": "code",
   "execution_count": 2,
   "metadata": {},
   "outputs": [],
   "source": [
    "House_Data = pd.read_csv(\"C:\\\\Users\\\\graykar\\\\Downloads\\\\Pyhton\\\\Data Files\\\\Housing Price.csv\")"
   ]
  },
  {
   "cell_type": "code",
   "execution_count": 3,
   "metadata": {},
   "outputs": [],
   "source": [
    "from sklearn.model_selection import train_test_split\n",
    "X_train, X_test, y_train, y_test = train_test_split( House_Data , House_Data['SalePrice'] , test_size=0.20, random_state=1,)"
   ]
  },
  {
   "cell_type": "code",
   "execution_count": 4,
   "metadata": {},
   "outputs": [
    {
     "name": "stderr",
     "output_type": "stream",
     "text": [
      "C:\\Users\\graykar\\Documents\\Annaconda3\\lib\\site-packages\\pandas\\core\\frame.py:3694: SettingWithCopyWarning: \n",
      "A value is trying to be set on a copy of a slice from a DataFrame\n",
      "\n",
      "See the caveats in the documentation: http://pandas.pydata.org/pandas-docs/stable/indexing.html#indexing-view-versus-copy\n",
      "  errors=errors)\n"
     ]
    }
   ],
   "source": [
    "#Drop Feature which has more nulls\n",
    "v_null_drop = X_train.isnull().mean()[X_train.isnull().mean() > 0.90].index\n",
    "X_train.drop(v_null_drop , inplace=True, axis=1)\n",
    "\n",
    "#Drop Less Variance Feature\n",
    "X_train_Num_Col = X_train.dtypes.index\n",
    "v_low_var_set = []\n",
    "for i in X_train_Num_Col:\n",
    "    v_count = X_train[i].value_counts(normalize=True)[X_train[i].value_counts(normalize=True) > 0.80].count()\n",
    "    if v_count > 0 :\n",
    "        v_low_var_set.append(i)\n",
    "X_train.drop(v_low_var_set, axis=1, inplace=True)\n",
    "\n",
    "#Drop Id Column \n",
    "X_train.drop(['Id'], axis=1, inplace=True)\n",
    "\n",
    "#Drop Less Correlated columns\n",
    "v_corr_drop = X_train.corr()['SalePrice'][abs(X_train.corr()['SalePrice']) < 0.25].index\n",
    "X_train.drop(v_corr_drop, axis=1 , inplace=True)"
   ]
  },
  {
   "cell_type": "code",
   "execution_count": 5,
   "metadata": {},
   "outputs": [
    {
     "data": {
      "text/plain": [
       "LotFrontage     209\n",
       "MasVnrType        8\n",
       "MasVnrArea        8\n",
       "BsmtQual         30\n",
       "BsmtExposure     31\n",
       "BsmtFinType1     30\n",
       "FireplaceQu     548\n",
       "GarageType       61\n",
       "GarageYrBlt      61\n",
       "GarageFinish     61\n",
       "Fence           954\n",
       "dtype: int64"
      ]
     },
     "execution_count": 5,
     "metadata": {},
     "output_type": "execute_result"
    }
   ],
   "source": [
    "X_train.isna().sum()[X_train.isna().sum() > 0]"
   ]
  },
  {
   "cell_type": "code",
   "execution_count": 6,
   "metadata": {},
   "outputs": [
    {
     "name": "stderr",
     "output_type": "stream",
     "text": [
      "C:\\Users\\graykar\\Documents\\Annaconda3\\lib\\site-packages\\ipykernel_launcher.py:1: SettingWithCopyWarning: \n",
      "A value is trying to be set on a copy of a slice from a DataFrame.\n",
      "Try using .loc[row_indexer,col_indexer] = value instead\n",
      "\n",
      "See the caveats in the documentation: http://pandas.pydata.org/pandas-docs/stable/indexing.html#indexing-view-versus-copy\n",
      "  \"\"\"Entry point for launching an IPython kernel.\n",
      "C:\\Users\\graykar\\Documents\\Annaconda3\\lib\\site-packages\\pandas\\core\\generic.py:5430: SettingWithCopyWarning: \n",
      "A value is trying to be set on a copy of a slice from a DataFrame\n",
      "\n",
      "See the caveats in the documentation: http://pandas.pydata.org/pandas-docs/stable/indexing.html#indexing-view-versus-copy\n",
      "  self._update_inplace(new_data)\n"
     ]
    }
   ],
   "source": [
    "X_train['GarageYrBlt'] = 2020 - X_train['GarageYrBlt']\n",
    "\n",
    "LotFrontage_Imputation = X_train.LotFrontage.median()\n",
    "MasVnrType_Imputation = X_train['MasVnrType'].mode().values[0]\n",
    "MasVnrArea_Imputation = X_train['MasVnrArea'].mode().values[0]\n",
    "\n",
    "X_train['LotFrontage'].fillna( LotFrontage_Imputation ,  inplace=True)\n",
    "X_train['MasVnrType'].fillna(MasVnrType_Imputation,  inplace=True)\n",
    "X_train['MasVnrArea'].fillna(MasVnrArea_Imputation,  inplace=True)\n",
    "\n",
    "X_train['BsmtQual'].fillna('NB',  inplace=True)\n",
    "X_train['BsmtExposure'].fillna('NB',  inplace=True)\n",
    "X_train['BsmtFinType1'].fillna('NB',  inplace=True)\n",
    "X_train['FireplaceQu'].fillna('NB',  inplace=True)\n",
    "X_train['GarageType'].fillna('NG',  inplace=True)\n",
    "X_train['GarageYrBlt'].fillna(40,  inplace=True)\n",
    "X_train['GarageFinish'].fillna('NG',  inplace=True)\n",
    "X_train['Fence'].fillna('NA',  inplace=True)\n"
   ]
  },
  {
   "cell_type": "code",
   "execution_count": 7,
   "metadata": {},
   "outputs": [
    {
     "data": {
      "text/plain": [
       "Series([], dtype: int64)"
      ]
     },
     "execution_count": 7,
     "metadata": {},
     "output_type": "execute_result"
    }
   ],
   "source": [
    "X_train.isna().sum()[X_train.isna().sum() > 0]"
   ]
  },
  {
   "cell_type": "code",
   "execution_count": null,
   "metadata": {},
   "outputs": [],
   "source": []
  },
  {
   "cell_type": "code",
   "execution_count": 9,
   "metadata": {},
   "outputs": [
    {
     "name": "stderr",
     "output_type": "stream",
     "text": [
      "C:\\Users\\graykar\\Documents\\Annaconda3\\lib\\site-packages\\ipykernel_launcher.py:5: SettingWithCopyWarning: \n",
      "A value is trying to be set on a copy of a slice from a DataFrame.\n",
      "Try using .loc[row_indexer,col_indexer] = value instead\n",
      "\n",
      "See the caveats in the documentation: http://pandas.pydata.org/pandas-docs/stable/indexing.html#indexing-view-versus-copy\n",
      "  \"\"\"\n"
     ]
    }
   ],
   "source": [
    "v_log_transform_col = ['LotFrontage','LotArea','MasVnrArea','BsmtFinSF1',\n",
    "                       '2ndFlrSF','GrLivArea','HalfBath','TotRmsAbvGrd','Fireplaces','GarageYrBlt',\n",
    "                       'WoodDeckSF','OpenPorchSF','SalePrice']\n",
    "for i in v_log_transform_col:\n",
    "    X_train[i] = np.log(X_train[i]+1)"
   ]
  },
  {
   "cell_type": "code",
   "execution_count": 10,
   "metadata": {},
   "outputs": [
    {
     "name": "stderr",
     "output_type": "stream",
     "text": [
      "C:\\Users\\graykar\\Documents\\Annaconda3\\lib\\site-packages\\pandas\\core\\frame.py:3694: SettingWithCopyWarning: \n",
      "A value is trying to be set on a copy of a slice from a DataFrame\n",
      "\n",
      "See the caveats in the documentation: http://pandas.pydata.org/pandas-docs/stable/indexing.html#indexing-view-versus-copy\n",
      "  errors=errors)\n"
     ]
    }
   ],
   "source": [
    "# Drop Multi-Colinearity columns\n",
    "\n",
    "X_train.drop(['1stFlrSF','GarageArea'] , axis=1, inplace=True)"
   ]
  },
  {
   "cell_type": "code",
   "execution_count": 19,
   "metadata": {},
   "outputs": [
    {
     "name": "stdout",
     "output_type": "stream",
     "text": [
      "BsmtExposure\n",
      "BsmtFinType1\n",
      "HeatingQC\n",
      "KitchenQual\n",
      "FireplaceQu\n",
      "GarageType\n",
      "Fence\n"
     ]
    },
    {
     "name": "stderr",
     "output_type": "stream",
     "text": [
      "C:\\Users\\graykar\\Documents\\Annaconda3\\lib\\site-packages\\ipykernel_launcher.py:10: SettingWithCopyWarning: \n",
      "A value is trying to be set on a copy of a slice from a DataFrame.\n",
      "Try using .loc[row_indexer,col_indexer] = value instead\n",
      "\n",
      "See the caveats in the documentation: http://pandas.pydata.org/pandas-docs/stable/indexing.html#indexing-view-versus-copy\n",
      "  # Remove the CWD from sys.path while we load stuff.\n",
      "C:\\Users\\graykar\\Documents\\Annaconda3\\lib\\site-packages\\ipykernel_launcher.py:11: SettingWithCopyWarning: \n",
      "A value is trying to be set on a copy of a slice from a DataFrame.\n",
      "Try using .loc[row_indexer,col_indexer] = value instead\n",
      "\n",
      "See the caveats in the documentation: http://pandas.pydata.org/pandas-docs/stable/indexing.html#indexing-view-versus-copy\n",
      "  # This is added back by InteractiveShellApp.init_path()\n"
     ]
    }
   ],
   "source": [
    "v_rare_list = []\n",
    "for i in X_train.dtypes[X_train.dtypes =='object'].index:\n",
    "    v_cnt = X_train[i].value_counts(normalize=True)[X_train[i].value_counts(normalize=True) <= 0.04].count()\n",
    "    if v_cnt >= 1:\n",
    "        print(i)\n",
    "        v_rare_list.append(i)\n",
    "#v_rare_list\n",
    "for j in v_rare_list:\n",
    "    #print(j)\n",
    "    X_train[j] = X_train[j].mask(X_train[j].map(X_train[j].value_counts(normalize=True) < 0.04),X_train[j].mode().values[0])\n",
    "    X_test[j] = X_test[j].mask(X_test[j].map(X_test[j].value_counts(normalize=True) < 0.04),X_test[j].mode().values[0])\n"
   ]
  },
  {
   "cell_type": "code",
   "execution_count": 22,
   "metadata": {},
   "outputs": [],
   "source": [
    "v_high_cardinal_col = []\n",
    "for i in X_train.dtypes[ X_train.dtypes == 'object'].index:\n",
    "    i_train , i_test = [], []\n",
    "    i_train = X_train[i].value_counts().index.tolist()\n",
    "    i_test = X_test[i].value_counts().index.tolist()\n",
    "    i_train.sort()\n",
    "    i_test.sort()\n",
    "\n",
    "    if i_train == i_test: \n",
    "        continue\n",
    "    else :\n",
    "        print (\"The lists are not identical \" + i , set(i_train) - set(i_test) , '- - ',  set(i_test) - set(i_train)  )\n",
    "        v_high_cardinal_col.append(i)\n",
    "    i_train.clear()\n",
    "    i_test.clear()\n"
   ]
  },
  {
   "cell_type": "code",
   "execution_count": 21,
   "metadata": {},
   "outputs": [
    {
     "name": "stderr",
     "output_type": "stream",
     "text": [
      "C:\\Users\\graykar\\Documents\\Annaconda3\\lib\\site-packages\\pandas\\core\\indexing.py:543: SettingWithCopyWarning: \n",
      "A value is trying to be set on a copy of a slice from a DataFrame.\n",
      "Try using .loc[row_indexer,col_indexer] = value instead\n",
      "\n",
      "See the caveats in the documentation: http://pandas.pydata.org/pandas-docs/stable/indexing.html#indexing-view-versus-copy\n",
      "  self.obj[item] = s\n"
     ]
    }
   ],
   "source": [
    "X_train.loc[X_train.Neighborhood == 'NWAmes'  , 'Neighborhood'] = X_train.Neighborhood.mode().values[0]\n",
    "X_test.loc[X_test.Neighborhood == 'SawyerW'  , 'Neighborhood'] = X_train.Neighborhood.mode().values[0]\n",
    "X_test.loc[X_test.Neighborhood == 'Mitchel'  , 'Neighborhood'] = X_train.Neighborhood.mode().values[0]\n",
    "X_test.loc[X_test.Neighborhood == 'BrkSide'  , 'Neighborhood'] = X_train.Neighborhood.mode().values[0]\n",
    "X_train.loc[X_train.LotConfig == 'CulDSac'  , 'LotConfig'] = X_train.LotConfig.mode().values[0]\n",
    "X_test.loc[X_test.LotConfig == 'FR2'  , 'LotConfig'] = X_train.LotConfig.mode().values[0]\n",
    "X_test.loc[X_test.BsmtQual == 'Fa'  , 'BsmtQual'] = X_train.BsmtQual.mode().values[0]\n",
    "X_test.loc[X_test.BsmtQual == 'NB'  , 'BsmtQual'] = X_train.BsmtQual.mode().values[0]\n",
    "X_test.loc[X_test.KitchenQual == 'Fa'  , 'KitchenQual'] = X_train.KitchenQual.mode().values[0]\n",
    "X_test.loc[X_test.Fence == 'GdWo'  , 'Fence'] = X_train.Fence.mode().values[0]"
   ]
  },
  {
   "cell_type": "code",
   "execution_count": 27,
   "metadata": {},
   "outputs": [
    {
     "name": "stdout",
     "output_type": "stream",
     "text": [
      "3 MSZoning\n",
      "2 LotShape\n",
      "2 LotConfig\n",
      "8 Neighborhood\n",
      "4 HouseStyle\n",
      "2 RoofStyle\n",
      "6 Exterior1st\n",
      "6 Exterior2nd\n",
      "3 MasVnrType\n",
      "2 ExterQual\n",
      "3 Foundation\n",
      "3 BsmtQual\n",
      "4 BsmtExposure\n",
      "6 BsmtFinType1\n",
      "3 HeatingQC\n",
      "3 KitchenQual\n",
      "3 FireplaceQu\n",
      "4 GarageType\n",
      "4 GarageFinish\n",
      "3 Fence\n"
     ]
    }
   ],
   "source": [
    "for i in X_train.dtypes[ X_train.dtypes == 'object'].index:\n",
    "    print( len(X_train[i].value_counts()) , i )"
   ]
  },
  {
   "cell_type": "code",
   "execution_count": 28,
   "metadata": {},
   "outputs": [
    {
     "data": {
      "text/plain": [
       "(10, 10)"
      ]
     },
     "execution_count": 28,
     "metadata": {},
     "output_type": "execute_result"
    }
   ],
   "source": [
    "v_label_enco = ['LotShape','ExterQual','BsmtQual','BsmtExposure','BsmtFinType1','HeatingQC',\n",
    "                'KitchenQual','FireplaceQu','GarageFinish','Fence']\n",
    "v_Onehot_enco = ['LotConfig','Neighborhood','HouseStyle','RoofStyle','Exterior1st',\n",
    "                 'Exterior2nd','MasVnrType','Foundation','GarageType','MSZoning']\n",
    "\n",
    "len(v_label_enco) , len(v_Onehot_enco)"
   ]
  },
  {
   "cell_type": "code",
   "execution_count": 29,
   "metadata": {},
   "outputs": [],
   "source": [
    "cat_list_dict = { 'LotShape' : ['Reg','IR1','IR2','IR3'],\n",
    "'ExterQual' : ['TA','Gd','Ex','Fa'],\n",
    "'BsmtQual' : ['TA','Gd','Ex','Fa'],\n",
    "'BsmtExposure' : ['Av','No','Gd','Mn'],\n",
    "'BsmtFinType1' : ['BLQ','GLQ','Unf','Rec','ALQ','LwQ'],\n",
    "'HeatingQC' : ['TA','Ex','Gd','Fa'],\n",
    "'KitchenQual' : ['TA','Ex','Gd','Fa'],\n",
    "'FireplaceQu' : ['Missing','TA','Gd','Fa','Po','Ex'],\n",
    "'GarageFinish' : ['Unf','RFn','Fin'],\n",
    "'ExterCond' :  ['TA' ,'Gd' ,'Rare'],\n",
    "'BsmtCond' : ['TA', 'Rare'],\n",
    "'BsmtFinType2' : ['Unf' ,'ALQ', 'Rec' ,'BLQ', 'GLQ' ,'LwQ', 'NB'],\n",
    "'PavedDrive' : ['Y', 'P' ,'N'],\n",
    "'Fence' : ['NA' ,'GdWo', 'GdPrv' ,'MnPrv', 'MnWw']}"
   ]
  },
  {
   "cell_type": "code",
   "execution_count": 30,
   "metadata": {},
   "outputs": [],
   "source": [
    "def label_encoding (df, column):\n",
    "    df[column] = pd.Categorical(df[column] , categories = cat_list_dict[column])\n",
    "    df[column] = df[column].cat.codes"
   ]
  },
  {
   "cell_type": "code",
   "execution_count": 31,
   "metadata": {},
   "outputs": [
    {
     "name": "stderr",
     "output_type": "stream",
     "text": [
      "C:\\Users\\graykar\\Documents\\Annaconda3\\lib\\site-packages\\ipykernel_launcher.py:2: SettingWithCopyWarning: \n",
      "A value is trying to be set on a copy of a slice from a DataFrame.\n",
      "Try using .loc[row_indexer,col_indexer] = value instead\n",
      "\n",
      "See the caveats in the documentation: http://pandas.pydata.org/pandas-docs/stable/indexing.html#indexing-view-versus-copy\n",
      "  \n",
      "C:\\Users\\graykar\\Documents\\Annaconda3\\lib\\site-packages\\ipykernel_launcher.py:3: SettingWithCopyWarning: \n",
      "A value is trying to be set on a copy of a slice from a DataFrame.\n",
      "Try using .loc[row_indexer,col_indexer] = value instead\n",
      "\n",
      "See the caveats in the documentation: http://pandas.pydata.org/pandas-docs/stable/indexing.html#indexing-view-versus-copy\n",
      "  This is separate from the ipykernel package so we can avoid doing imports until\n"
     ]
    }
   ],
   "source": [
    "for i in v_label_enco:\n",
    "    label_encoding(X_train, i)"
   ]
  },
  {
   "cell_type": "code",
   "execution_count": 32,
   "metadata": {},
   "outputs": [],
   "source": [
    "# One hot Encoding\n",
    "for i in v_Onehot_enco:\n",
    "    X_train = pd.get_dummies(X_train,columns=[i] , prefix= [i] , drop_first=True)"
   ]
  },
  {
   "cell_type": "code",
   "execution_count": 34,
   "metadata": {},
   "outputs": [
    {
     "data": {
      "text/plain": [
       "(1168, 60)"
      ]
     },
     "execution_count": 34,
     "metadata": {},
     "output_type": "execute_result"
    }
   ],
   "source": [
    "X_train.shape"
   ]
  },
  {
   "cell_type": "code",
   "execution_count": 35,
   "metadata": {},
   "outputs": [],
   "source": [
    "# identify outliers in the training dataset\n",
    "iso = IsolationForest(contamination=0.1)\n",
    "#yhat = iso.fit_predict(X_train)\n",
    "yhat = iso.fit(X_train)"
   ]
  },
  {
   "cell_type": "code",
   "execution_count": 56,
   "metadata": {},
   "outputs": [],
   "source": [
    "X_train_new = X_train[iso.predict(X_train) != -1]"
   ]
  },
  {
   "cell_type": "code",
   "execution_count": 57,
   "metadata": {},
   "outputs": [
    {
     "data": {
      "text/plain": [
       "(1051, 60)"
      ]
     },
     "execution_count": 57,
     "metadata": {},
     "output_type": "execute_result"
    }
   ],
   "source": [
    "X_train_new.shape"
   ]
  },
  {
   "cell_type": "code",
   "execution_count": 59,
   "metadata": {},
   "outputs": [],
   "source": [
    "train_X = X_train_new.loc[: , [x for x in X_train_new.columns if x not in ['SalePrice']] ]\n",
    "train_y = X_train_new['SalePrice']"
   ]
  },
  {
   "cell_type": "code",
   "execution_count": 60,
   "metadata": {},
   "outputs": [
    {
     "data": {
      "text/plain": [
       "((1051, 59), (1051,))"
      ]
     },
     "execution_count": 60,
     "metadata": {},
     "output_type": "execute_result"
    }
   ],
   "source": [
    "train_X.shape , train_y.shape"
   ]
  },
  {
   "cell_type": "code",
   "execution_count": 61,
   "metadata": {},
   "outputs": [
    {
     "data": {
      "text/plain": [
       "0.8971879786112503"
      ]
     },
     "execution_count": 61,
     "metadata": {},
     "output_type": "execute_result"
    }
   ],
   "source": [
    "LR = LinearRegression()\n",
    "LR.fit(train_X , train_y)\n",
    "y_pred = LR.predict(train_X)\n",
    "\n",
    "r2_score(train_y, y_pred)"
   ]
  },
  {
   "cell_type": "markdown",
   "metadata": {},
   "source": [
    "# Test Set Implimentation"
   ]
  },
  {
   "cell_type": "code",
   "execution_count": 13,
   "metadata": {},
   "outputs": [
    {
     "name": "stderr",
     "output_type": "stream",
     "text": [
      "C:\\Users\\graykar\\Documents\\Annaconda3\\lib\\site-packages\\pandas\\core\\frame.py:3694: SettingWithCopyWarning: \n",
      "A value is trying to be set on a copy of a slice from a DataFrame\n",
      "\n",
      "See the caveats in the documentation: http://pandas.pydata.org/pandas-docs/stable/indexing.html#indexing-view-versus-copy\n",
      "  errors=errors)\n"
     ]
    }
   ],
   "source": [
    "X_test.drop(v_null_drop , axis=1, inplace=True)\n",
    "X_test.drop(v_low_var_set , axis=1, inplace=True)\n",
    "X_test.drop(v_corr_drop , axis=1, inplace=True)\n",
    "X_test.drop(['Id'], axis=1, inplace=True)"
   ]
  },
  {
   "cell_type": "code",
   "execution_count": 14,
   "metadata": {},
   "outputs": [
    {
     "name": "stderr",
     "output_type": "stream",
     "text": [
      "C:\\Users\\graykar\\Documents\\Annaconda3\\lib\\site-packages\\ipykernel_launcher.py:1: SettingWithCopyWarning: \n",
      "A value is trying to be set on a copy of a slice from a DataFrame.\n",
      "Try using .loc[row_indexer,col_indexer] = value instead\n",
      "\n",
      "See the caveats in the documentation: http://pandas.pydata.org/pandas-docs/stable/indexing.html#indexing-view-versus-copy\n",
      "  \"\"\"Entry point for launching an IPython kernel.\n",
      "C:\\Users\\graykar\\Documents\\Annaconda3\\lib\\site-packages\\pandas\\core\\generic.py:5430: SettingWithCopyWarning: \n",
      "A value is trying to be set on a copy of a slice from a DataFrame\n",
      "\n",
      "See the caveats in the documentation: http://pandas.pydata.org/pandas-docs/stable/indexing.html#indexing-view-versus-copy\n",
      "  self._update_inplace(new_data)\n"
     ]
    }
   ],
   "source": [
    "X_test['GarageYrBlt'] = 2020 - X_test['GarageYrBlt']\n",
    "\n",
    "LotFrontage_Imputation = X_test.LotFrontage.median()\n",
    "MasVnrType_Imputation = X_test['MasVnrType'].mode().values[0]\n",
    "MasVnrArea_Imputation = X_test['MasVnrArea'].mode().values[0]\n",
    "\n",
    "X_test['LotFrontage'].fillna( LotFrontage_Imputation ,  inplace=True)\n",
    "X_test['MasVnrType'].fillna(MasVnrType_Imputation,  inplace=True)\n",
    "X_test['MasVnrArea'].fillna(MasVnrArea_Imputation,  inplace=True)\n",
    "\n",
    "X_test['BsmtQual'].fillna('NB',  inplace=True)\n",
    "X_test['BsmtExposure'].fillna('NB',  inplace=True)\n",
    "X_test['BsmtFinType1'].fillna('NB',  inplace=True)\n",
    "X_test['FireplaceQu'].fillna('NB',  inplace=True)\n",
    "X_test['GarageType'].fillna('NG',  inplace=True)\n",
    "X_test['GarageYrBlt'].fillna(40,  inplace=True)\n",
    "X_test['GarageFinish'].fillna('NG',  inplace=True)\n",
    "X_test['Fence'].fillna('NA',  inplace=True)\n"
   ]
  },
  {
   "cell_type": "code",
   "execution_count": 15,
   "metadata": {},
   "outputs": [
    {
     "name": "stderr",
     "output_type": "stream",
     "text": [
      "C:\\Users\\graykar\\Documents\\Annaconda3\\lib\\site-packages\\pandas\\core\\frame.py:3694: SettingWithCopyWarning: \n",
      "A value is trying to be set on a copy of a slice from a DataFrame\n",
      "\n",
      "See the caveats in the documentation: http://pandas.pydata.org/pandas-docs/stable/indexing.html#indexing-view-versus-copy\n",
      "  errors=errors)\n"
     ]
    }
   ],
   "source": [
    "# Drop Multi-Colinearity columns\n",
    "\n",
    "X_test.drop(['1stFlrSF','GarageArea'] , axis=1, inplace=True)"
   ]
  },
  {
   "cell_type": "code",
   "execution_count": 16,
   "metadata": {},
   "outputs": [
    {
     "name": "stderr",
     "output_type": "stream",
     "text": [
      "C:\\Users\\graykar\\Documents\\Annaconda3\\lib\\site-packages\\ipykernel_launcher.py:2: SettingWithCopyWarning: \n",
      "A value is trying to be set on a copy of a slice from a DataFrame.\n",
      "Try using .loc[row_indexer,col_indexer] = value instead\n",
      "\n",
      "See the caveats in the documentation: http://pandas.pydata.org/pandas-docs/stable/indexing.html#indexing-view-versus-copy\n",
      "  \n"
     ]
    }
   ],
   "source": [
    "for i in v_log_transform_col:\n",
    "    X_test[i] = np.log(X_test[i]+1)"
   ]
  },
  {
   "cell_type": "code",
   "execution_count": 62,
   "metadata": {},
   "outputs": [
    {
     "name": "stderr",
     "output_type": "stream",
     "text": [
      "C:\\Users\\graykar\\Documents\\Annaconda3\\lib\\site-packages\\ipykernel_launcher.py:2: SettingWithCopyWarning: \n",
      "A value is trying to be set on a copy of a slice from a DataFrame.\n",
      "Try using .loc[row_indexer,col_indexer] = value instead\n",
      "\n",
      "See the caveats in the documentation: http://pandas.pydata.org/pandas-docs/stable/indexing.html#indexing-view-versus-copy\n",
      "  \n",
      "C:\\Users\\graykar\\Documents\\Annaconda3\\lib\\site-packages\\ipykernel_launcher.py:3: SettingWithCopyWarning: \n",
      "A value is trying to be set on a copy of a slice from a DataFrame.\n",
      "Try using .loc[row_indexer,col_indexer] = value instead\n",
      "\n",
      "See the caveats in the documentation: http://pandas.pydata.org/pandas-docs/stable/indexing.html#indexing-view-versus-copy\n",
      "  This is separate from the ipykernel package so we can avoid doing imports until\n"
     ]
    }
   ],
   "source": [
    "# Label Encoding\n",
    "for i in v_label_enco:\n",
    "    label_encoding(X_test, i)\n",
    "# One hot Encoding\n",
    "for i in v_Onehot_enco:\n",
    "    X_test = pd.get_dummies(X_test,columns=[i] , prefix= [i] , drop_first=True)"
   ]
  },
  {
   "cell_type": "code",
   "execution_count": 63,
   "metadata": {},
   "outputs": [
    {
     "data": {
      "text/html": [
       "<div>\n",
       "<style scoped>\n",
       "    .dataframe tbody tr th:only-of-type {\n",
       "        vertical-align: middle;\n",
       "    }\n",
       "\n",
       "    .dataframe tbody tr th {\n",
       "        vertical-align: top;\n",
       "    }\n",
       "\n",
       "    .dataframe thead th {\n",
       "        text-align: right;\n",
       "    }\n",
       "</style>\n",
       "<table border=\"1\" class=\"dataframe\">\n",
       "  <thead>\n",
       "    <tr style=\"text-align: right;\">\n",
       "      <th></th>\n",
       "      <th>LotFrontage</th>\n",
       "      <th>LotArea</th>\n",
       "      <th>LotShape</th>\n",
       "      <th>OverallQual</th>\n",
       "      <th>YearBuilt</th>\n",
       "      <th>YearRemodAdd</th>\n",
       "      <th>MasVnrArea</th>\n",
       "      <th>ExterQual</th>\n",
       "      <th>BsmtQual</th>\n",
       "      <th>BsmtExposure</th>\n",
       "      <th>...</th>\n",
       "      <th>Exterior2nd_Wd Sdng</th>\n",
       "      <th>MasVnrType_None</th>\n",
       "      <th>MasVnrType_Stone</th>\n",
       "      <th>Foundation_CBlock</th>\n",
       "      <th>Foundation_PConc</th>\n",
       "      <th>GarageType_BuiltIn</th>\n",
       "      <th>GarageType_Detchd</th>\n",
       "      <th>GarageType_NG</th>\n",
       "      <th>MSZoning_RL</th>\n",
       "      <th>MSZoning_RM</th>\n",
       "    </tr>\n",
       "  </thead>\n",
       "  <tbody>\n",
       "    <tr>\n",
       "      <th>258</th>\n",
       "      <td>4.394449</td>\n",
       "      <td>9.428351</td>\n",
       "      <td>0</td>\n",
       "      <td>7</td>\n",
       "      <td>2001</td>\n",
       "      <td>2001</td>\n",
       "      <td>5.153292</td>\n",
       "      <td>1</td>\n",
       "      <td>1</td>\n",
       "      <td>1</td>\n",
       "      <td>...</td>\n",
       "      <td>0</td>\n",
       "      <td>0</td>\n",
       "      <td>0</td>\n",
       "      <td>0</td>\n",
       "      <td>1</td>\n",
       "      <td>0</td>\n",
       "      <td>0</td>\n",
       "      <td>0</td>\n",
       "      <td>1</td>\n",
       "      <td>0</td>\n",
       "    </tr>\n",
       "    <tr>\n",
       "      <th>267</th>\n",
       "      <td>4.110874</td>\n",
       "      <td>9.036106</td>\n",
       "      <td>0</td>\n",
       "      <td>5</td>\n",
       "      <td>1939</td>\n",
       "      <td>1997</td>\n",
       "      <td>0.000000</td>\n",
       "      <td>0</td>\n",
       "      <td>0</td>\n",
       "      <td>1</td>\n",
       "      <td>...</td>\n",
       "      <td>1</td>\n",
       "      <td>1</td>\n",
       "      <td>0</td>\n",
       "      <td>0</td>\n",
       "      <td>1</td>\n",
       "      <td>0</td>\n",
       "      <td>1</td>\n",
       "      <td>0</td>\n",
       "      <td>1</td>\n",
       "      <td>0</td>\n",
       "    </tr>\n",
       "    <tr>\n",
       "      <th>288</th>\n",
       "      <td>4.262680</td>\n",
       "      <td>9.192176</td>\n",
       "      <td>1</td>\n",
       "      <td>5</td>\n",
       "      <td>1967</td>\n",
       "      <td>1967</td>\n",
       "      <td>3.465736</td>\n",
       "      <td>0</td>\n",
       "      <td>0</td>\n",
       "      <td>1</td>\n",
       "      <td>...</td>\n",
       "      <td>0</td>\n",
       "      <td>0</td>\n",
       "      <td>0</td>\n",
       "      <td>1</td>\n",
       "      <td>0</td>\n",
       "      <td>0</td>\n",
       "      <td>1</td>\n",
       "      <td>0</td>\n",
       "      <td>1</td>\n",
       "      <td>0</td>\n",
       "    </tr>\n",
       "    <tr>\n",
       "      <th>649</th>\n",
       "      <td>3.091042</td>\n",
       "      <td>7.568896</td>\n",
       "      <td>0</td>\n",
       "      <td>4</td>\n",
       "      <td>1970</td>\n",
       "      <td>1970</td>\n",
       "      <td>0.000000</td>\n",
       "      <td>0</td>\n",
       "      <td>1</td>\n",
       "      <td>0</td>\n",
       "      <td>...</td>\n",
       "      <td>0</td>\n",
       "      <td>1</td>\n",
       "      <td>0</td>\n",
       "      <td>1</td>\n",
       "      <td>0</td>\n",
       "      <td>0</td>\n",
       "      <td>0</td>\n",
       "      <td>1</td>\n",
       "      <td>0</td>\n",
       "      <td>1</td>\n",
       "    </tr>\n",
       "    <tr>\n",
       "      <th>1233</th>\n",
       "      <td>4.262680</td>\n",
       "      <td>9.405989</td>\n",
       "      <td>1</td>\n",
       "      <td>5</td>\n",
       "      <td>1959</td>\n",
       "      <td>1959</td>\n",
       "      <td>5.198497</td>\n",
       "      <td>0</td>\n",
       "      <td>0</td>\n",
       "      <td>1</td>\n",
       "      <td>...</td>\n",
       "      <td>0</td>\n",
       "      <td>0</td>\n",
       "      <td>0</td>\n",
       "      <td>1</td>\n",
       "      <td>0</td>\n",
       "      <td>0</td>\n",
       "      <td>0</td>\n",
       "      <td>0</td>\n",
       "      <td>1</td>\n",
       "      <td>0</td>\n",
       "    </tr>\n",
       "  </tbody>\n",
       "</table>\n",
       "<p>5 rows × 60 columns</p>\n",
       "</div>"
      ],
      "text/plain": [
       "      LotFrontage   LotArea  LotShape  OverallQual  YearBuilt  YearRemodAdd  \\\n",
       "258      4.394449  9.428351         0            7       2001          2001   \n",
       "267      4.110874  9.036106         0            5       1939          1997   \n",
       "288      4.262680  9.192176         1            5       1967          1967   \n",
       "649      3.091042  7.568896         0            4       1970          1970   \n",
       "1233     4.262680  9.405989         1            5       1959          1959   \n",
       "\n",
       "      MasVnrArea  ExterQual  BsmtQual  BsmtExposure     ...       \\\n",
       "258     5.153292          1         1             1     ...        \n",
       "267     0.000000          0         0             1     ...        \n",
       "288     3.465736          0         0             1     ...        \n",
       "649     0.000000          0         1             0     ...        \n",
       "1233    5.198497          0         0             1     ...        \n",
       "\n",
       "      Exterior2nd_Wd Sdng  MasVnrType_None  MasVnrType_Stone  \\\n",
       "258                     0                0                 0   \n",
       "267                     1                1                 0   \n",
       "288                     0                0                 0   \n",
       "649                     0                1                 0   \n",
       "1233                    0                0                 0   \n",
       "\n",
       "      Foundation_CBlock  Foundation_PConc  GarageType_BuiltIn  \\\n",
       "258                   0                 1                   0   \n",
       "267                   0                 1                   0   \n",
       "288                   1                 0                   0   \n",
       "649                   1                 0                   0   \n",
       "1233                  1                 0                   0   \n",
       "\n",
       "      GarageType_Detchd  GarageType_NG  MSZoning_RL  MSZoning_RM  \n",
       "258                   0              0            1            0  \n",
       "267                   1              0            1            0  \n",
       "288                   1              0            1            0  \n",
       "649                   0              1            0            1  \n",
       "1233                  0              0            1            0  \n",
       "\n",
       "[5 rows x 60 columns]"
      ]
     },
     "execution_count": 63,
     "metadata": {},
     "output_type": "execute_result"
    }
   ],
   "source": [
    "X_test.head()"
   ]
  },
  {
   "cell_type": "code",
   "execution_count": 64,
   "metadata": {},
   "outputs": [],
   "source": [
    "yhat_test = iso.fit(X_test)\n",
    "\n",
    "X_test_new = X_test[iso.predict(X_test) != -1]\n"
   ]
  },
  {
   "cell_type": "code",
   "execution_count": 65,
   "metadata": {},
   "outputs": [
    {
     "data": {
      "text/plain": [
       "((262, 60), (292, 60))"
      ]
     },
     "execution_count": 65,
     "metadata": {},
     "output_type": "execute_result"
    }
   ],
   "source": [
    "X_test_new.shape , X_test.shape"
   ]
  },
  {
   "cell_type": "code",
   "execution_count": 66,
   "metadata": {},
   "outputs": [],
   "source": [
    "test_X = X_test_new.loc[: , [x for x in X_test_new.columns if x not in ['SalePrice']] ]\n",
    "test_y = X_test_new['SalePrice']"
   ]
  },
  {
   "cell_type": "code",
   "execution_count": 67,
   "metadata": {},
   "outputs": [
    {
     "data": {
      "text/plain": [
       "array([ True,  True,  True,  True,  True,  True,  True,  True,  True,\n",
       "        True,  True,  True,  True,  True,  True,  True,  True,  True,\n",
       "        True,  True,  True,  True,  True,  True,  True,  True,  True,\n",
       "        True,  True,  True,  True,  True,  True,  True,  True,  True,\n",
       "        True,  True,  True,  True,  True,  True,  True,  True,  True,\n",
       "        True,  True,  True,  True,  True,  True,  True,  True,  True,\n",
       "        True,  True,  True,  True,  True])"
      ]
     },
     "execution_count": 67,
     "metadata": {},
     "output_type": "execute_result"
    }
   ],
   "source": [
    "train_X.columns == test_X.columns"
   ]
  },
  {
   "cell_type": "code",
   "execution_count": 68,
   "metadata": {},
   "outputs": [
    {
     "data": {
      "text/plain": [
       "0.8567713076162776"
      ]
     },
     "execution_count": 68,
     "metadata": {},
     "output_type": "execute_result"
    }
   ],
   "source": [
    "y_test_pred = LR.predict(test_X)\n",
    "\n",
    "r2_score(test_y, y_test_pred)"
   ]
  },
  {
   "cell_type": "code",
   "execution_count": 69,
   "metadata": {},
   "outputs": [],
   "source": [
    "from sklearn.metrics import mean_squared_error\n",
    "\n",
    "def plot_learning_curves():\n",
    "    train_errors, test_errors = [], []\n",
    "    for m in range(1, len(train_X)):\n",
    "        LR.fit(train_X[:m], train_y[:m])\n",
    "        train_prediction = LR.predict(train_X[:m])\n",
    "        test_prediction = LR.predict(test_X)\n",
    "        train_errors.append(np.sqrt(mean_squared_error(train_prediction, train_y[:m])))\n",
    "        test_errors.append(np.sqrt(mean_squared_error(test_prediction, test_y)))\n",
    "\n",
    "    plt.plot(np.sqrt(train_errors), \"r-+\", linewidth=2, label=\"train\")\n",
    "    plt.plot(np.sqrt(test_errors), \"b-\", linewidth=3, label=\"val\")\n",
    "    plt.legend(loc=\"upper right\", fontsize=14)   \n",
    "    plt.xlabel(\"Training set size\", fontsize=14) \n",
    "    plt.ylabel(\"RMSE\", fontsize=14)"
   ]
  },
  {
   "cell_type": "code",
   "execution_count": 70,
   "metadata": {},
   "outputs": [
    {
     "data": {
      "image/png": "[encoded data removed]",
      "text/plain": [
       "<Figure size 432x288 with 1 Axes>"
      ]
     },
     "metadata": {},
     "output_type": "display_data"
    }
   ],
   "source": [
    "plot_learning_curves()"
   ]
  },
  {
   "cell_type": "code",
   "execution_count": null,
   "metadata": {},
   "outputs": [],
   "source": []
  }
 ],
 "metadata": {
  "kernelspec": {
   "display_name": "Python 3",
   "language": "python",
   "name": "python3"
  },
  "language_info": {
   "codemirror_mode": {
    "name": "ipython",
    "version": 3
   },
   "file_extension": ".py",
   "mimetype": "text/x-python",
   "name": "python",
   "nbconvert_exporter": "python",
   "pygments_lexer": "ipython3",
   "version": "3.6.5"
  }
 },
 "nbformat": 4,
 "nbformat_minor": 2
}
