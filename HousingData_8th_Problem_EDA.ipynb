{
 "cells": [
  {
   "cell_type": "code",
   "execution_count": 2,
   "metadata": {},
   "outputs": [],
   "source": [
    "import pandas as pd\n",
    "import numpy as np\n",
    "import matplotlib.pyplot as plt\n",
    "from sklearn.linear_model import LinearRegression\n",
    "from sklearn.metrics import r2_score\n",
    "import seaborn as sns\n",
    "from sklearn.ensemble import IsolationForest"
   ]
  },
  {
   "cell_type": "code",
   "execution_count": 3,
   "metadata": {},
   "outputs": [],
   "source": [
    "House_Data = pd.read_csv(\"C:\\\\Users\\\\graykar\\\\Downloads\\\\Pyhton\\\\Data Files\\\\Housing Price.csv\")"
   ]
  },
  {
   "cell_type": "code",
   "execution_count": 4,
   "metadata": {},
   "outputs": [],
   "source": [
    "from sklearn.model_selection import train_test_split\n",
    "X_train, X_test, y_train, y_test = train_test_split( House_Data , House_Data['SalePrice'] , test_size=0.20, random_state=1)"
   ]
  },
  {
   "cell_type": "code",
   "execution_count": 5,
   "metadata": {},
   "outputs": [
    {
     "name": "stderr",
     "output_type": "stream",
     "text": [
      "C:\\Users\\graykar\\Documents\\Annaconda3\\lib\\site-packages\\pandas\\core\\frame.py:3694: SettingWithCopyWarning: \n",
      "A value is trying to be set on a copy of a slice from a DataFrame\n",
      "\n",
      "See the caveats in the documentation: http://pandas.pydata.org/pandas-docs/stable/indexing.html#indexing-view-versus-copy\n",
      "  errors=errors)\n"
     ]
    }
   ],
   "source": [
    "#Drop Feature which has more nulls\n",
    "v_null_drop = X_train.isnull().mean()[X_train.isnull().mean() > 0.90].index\n",
    "X_train.drop(v_null_drop , inplace=True, axis=1)\n",
    "\n",
    "#Drop Less Variance Feature\n",
    "X_train_Num_Col = X_train.dtypes.index\n",
    "v_low_var_set = []\n",
    "for i in X_train_Num_Col:\n",
    "    v_count = X_train[i].value_counts(normalize=True)[X_train[i].value_counts(normalize=True) > 0.80].count()\n",
    "    if v_count > 0 :\n",
    "        v_low_var_set.append(i)\n",
    "X_train.drop(v_low_var_set, axis=1, inplace=True)\n",
    "\n",
    "#Drop Id Column \n",
    "X_train.drop(['Id'], axis=1, inplace=True)\n",
    "\n",
    "#Drop Less Correlated columns\n",
    "v_corr_drop = X_train.corr()['SalePrice'][abs(X_train.corr()['SalePrice']) < 0.25].index\n",
    "X_train.drop(v_corr_drop, axis=1 , inplace=True)"
   ]
  },
  {
   "cell_type": "code",
   "execution_count": 6,
   "metadata": {},
   "outputs": [
    {
     "data": {
      "text/plain": [
       "LotFrontage     209\n",
       "MasVnrType        8\n",
       "MasVnrArea        8\n",
       "BsmtQual         30\n",
       "BsmtExposure     31\n",
       "BsmtFinType1     30\n",
       "FireplaceQu     548\n",
       "GarageType       61\n",
       "GarageYrBlt      61\n",
       "GarageFinish     61\n",
       "Fence           954\n",
       "dtype: int64"
      ]
     },
     "execution_count": 6,
     "metadata": {},
     "output_type": "execute_result"
    }
   ],
   "source": [
    "X_train.isna().sum()[X_train.isna().sum() > 0]"
   ]
  },
  {
   "cell_type": "code",
   "execution_count": 7,
   "metadata": {},
   "outputs": [
    {
     "name": "stderr",
     "output_type": "stream",
     "text": [
      "C:\\Users\\graykar\\Documents\\Annaconda3\\lib\\site-packages\\ipykernel_launcher.py:1: SettingWithCopyWarning: \n",
      "A value is trying to be set on a copy of a slice from a DataFrame.\n",
      "Try using .loc[row_indexer,col_indexer] = value instead\n",
      "\n",
      "See the caveats in the documentation: http://pandas.pydata.org/pandas-docs/stable/indexing.html#indexing-view-versus-copy\n",
      "  \"\"\"Entry point for launching an IPython kernel.\n",
      "C:\\Users\\graykar\\Documents\\Annaconda3\\lib\\site-packages\\ipykernel_launcher.py:2: SettingWithCopyWarning: \n",
      "A value is trying to be set on a copy of a slice from a DataFrame.\n",
      "Try using .loc[row_indexer,col_indexer] = value instead\n",
      "\n",
      "See the caveats in the documentation: http://pandas.pydata.org/pandas-docs/stable/indexing.html#indexing-view-versus-copy\n",
      "  \n",
      "C:\\Users\\graykar\\Documents\\Annaconda3\\lib\\site-packages\\ipykernel_launcher.py:3: SettingWithCopyWarning: \n",
      "A value is trying to be set on a copy of a slice from a DataFrame.\n",
      "Try using .loc[row_indexer,col_indexer] = value instead\n",
      "\n",
      "See the caveats in the documentation: http://pandas.pydata.org/pandas-docs/stable/indexing.html#indexing-view-versus-copy\n",
      "  This is separate from the ipykernel package so we can avoid doing imports until\n",
      "C:\\Users\\graykar\\Documents\\Annaconda3\\lib\\site-packages\\pandas\\core\\generic.py:5430: SettingWithCopyWarning: \n",
      "A value is trying to be set on a copy of a slice from a DataFrame\n",
      "\n",
      "See the caveats in the documentation: http://pandas.pydata.org/pandas-docs/stable/indexing.html#indexing-view-versus-copy\n",
      "  self._update_inplace(new_data)\n",
      "C:\\Users\\graykar\\Documents\\Annaconda3\\lib\\site-packages\\pandas\\core\\indexing.py:543: SettingWithCopyWarning: \n",
      "A value is trying to be set on a copy of a slice from a DataFrame.\n",
      "Try using .loc[row_indexer,col_indexer] = value instead\n",
      "\n",
      "See the caveats in the documentation: http://pandas.pydata.org/pandas-docs/stable/indexing.html#indexing-view-versus-copy\n",
      "  self.obj[item] = s\n"
     ]
    }
   ],
   "source": [
    "X_train['GarageYrBlt'] = 2020 - X_train['GarageYrBlt']\n",
    "X_train['YearBuilt'] = 2020 - X_train['YearBuilt']\n",
    "X_train['YearRemodAdd'] = 2020 - X_train['YearRemodAdd']\n",
    "\n",
    "LotFrontage_Imputation = X_train.LotFrontage.median()\n",
    "MasVnrType_Imputation = X_train['MasVnrType'].mode().values[0]\n",
    "MasVnrArea_Imputation = X_train['MasVnrArea'].mode().values[0]\n",
    "\n",
    "X_train['LotFrontage'].fillna( LotFrontage_Imputation ,  inplace=True)\n",
    "X_train['MasVnrType'].fillna(MasVnrType_Imputation,  inplace=True)\n",
    "X_train['MasVnrArea'].fillna(MasVnrArea_Imputation,  inplace=True)\n",
    "\n",
    "X_train['BsmtQual'].fillna('NB',  inplace=True)\n",
    "X_train['BsmtExposure'].fillna('NB',  inplace=True)\n",
    "X_train['BsmtFinType1'].fillna('NB',  inplace=True)\n",
    "X_train['FireplaceQu'].fillna('NB',  inplace=True)\n",
    "X_train['GarageType'].fillna('NG',  inplace=True)\n",
    "X_train['GarageYrBlt'].fillna(40,  inplace=True)\n",
    "X_train['GarageFinish'].fillna('NG',  inplace=True)\n",
    "X_train['Fence'].fillna('NA',  inplace=True)\n",
    "\n",
    "# To handle the Outlier for TotalBsmtSF\n",
    "X_train.loc[ X_train['TotalBsmtSF'] [ X_train['TotalBsmtSF'] == 0 ].index , 'TotalBsmtSF'] = X_train['TotalBsmtSF'].mean()"
   ]
  },
  {
   "cell_type": "code",
   "execution_count": 8,
   "metadata": {},
   "outputs": [
    {
     "data": {
      "text/plain": [
       "Series([], dtype: int64)"
      ]
     },
     "execution_count": 8,
     "metadata": {},
     "output_type": "execute_result"
    }
   ],
   "source": [
    "X_train.isna().sum()[X_train.isna().sum() > 0]"
   ]
  },
  {
   "cell_type": "code",
   "execution_count": 9,
   "metadata": {},
   "outputs": [
    {
     "name": "stderr",
     "output_type": "stream",
     "text": [
      "C:\\Users\\graykar\\Documents\\Annaconda3\\lib\\site-packages\\pandas\\core\\frame.py:3694: SettingWithCopyWarning: \n",
      "A value is trying to be set on a copy of a slice from a DataFrame\n",
      "\n",
      "See the caveats in the documentation: http://pandas.pydata.org/pandas-docs/stable/indexing.html#indexing-view-versus-copy\n",
      "  errors=errors)\n"
     ]
    }
   ],
   "source": [
    "# Drop Multi-Colinearity columns\n",
    "\n",
    "X_train.drop(['1stFlrSF','GarageArea','TotRmsAbvGrd','GarageYrBlt'] , axis=1, inplace=True)\n"
   ]
  },
  {
   "cell_type": "code",
   "execution_count": 10,
   "metadata": {},
   "outputs": [
    {
     "name": "stderr",
     "output_type": "stream",
     "text": [
      "C:\\Users\\graykar\\Documents\\Annaconda3\\lib\\site-packages\\ipykernel_launcher.py:4: SettingWithCopyWarning: \n",
      "A value is trying to be set on a copy of a slice from a DataFrame.\n",
      "Try using .loc[row_indexer,col_indexer] = value instead\n",
      "\n",
      "See the caveats in the documentation: http://pandas.pydata.org/pandas-docs/stable/indexing.html#indexing-view-versus-copy\n",
      "  after removing the cwd from sys.path.\n"
     ]
    }
   ],
   "source": [
    "v_log_transform_col = ['LotFrontage','LotArea','YearBuilt','YearRemodAdd','MasVnrArea','BsmtFinSF1','TotalBsmtSF',\n",
    "                       '2ndFlrSF','GrLivArea','WoodDeckSF','OpenPorchSF','SalePrice']\n",
    "for i in v_log_transform_col:\n",
    "    X_train[i] = np.log(X_train[i]+1)"
   ]
  },
  {
   "cell_type": "code",
   "execution_count": 20,
   "metadata": {},
   "outputs": [],
   "source": [
    "v_rare_list = []\n",
    "for i in X_train.dtypes[X_train.dtypes =='object'].index:\n",
    "    v_cnt = X_train[i].value_counts(normalize=True)[X_train[i].value_counts(normalize=True) <= 0.05].count()\n",
    "    if v_cnt >= 1:\n",
    "        print(i)\n",
    "        v_rare_list.append(i)\n",
    "#v_rare_list\n",
    "for j in v_rare_list:\n",
    "    #print(j)\n",
    "    X_train[j] = X_train[j].mask(X_train[j].map(X_train[j].value_counts(normalize=True) < 0.05),X_train[j].mode().values[0])\n",
    "    X_test[j] = X_test[j].mask(X_test[j].map(X_test[j].value_counts(normalize=True) < 0.05),X_test[j].mode().values[0])"
   ]
  },
  {
   "cell_type": "code",
   "execution_count": 23,
   "metadata": {},
   "outputs": [],
   "source": [
    "v_high_cardinal_col = []\n",
    "for i in X_train.dtypes[ X_train.dtypes == 'object'].index:\n",
    "    i_train , i_test = [], []\n",
    "    i_train = X_train[i].value_counts().index.tolist()\n",
    "    i_test = X_test[i].value_counts().index.tolist()\n",
    "    i_train.sort()\n",
    "    i_test.sort()\n",
    "\n",
    "    if i_train == i_test: \n",
    "        continue\n",
    "    else :\n",
    "        print (\"The lists are not identical \" + i , set(i_train) - set(i_test) , '- - ',  set(i_test) - set(i_train)  )\n",
    "        v_high_cardinal_col.append(i)\n",
    "    i_train.clear()\n",
    "    i_test.clear()\n"
   ]
  },
  {
   "cell_type": "code",
   "execution_count": 22,
   "metadata": {},
   "outputs": [
    {
     "name": "stderr",
     "output_type": "stream",
     "text": [
      "C:\\Users\\graykar\\Documents\\Annaconda3\\lib\\site-packages\\pandas\\core\\indexing.py:543: SettingWithCopyWarning: \n",
      "A value is trying to be set on a copy of a slice from a DataFrame.\n",
      "Try using .loc[row_indexer,col_indexer] = value instead\n",
      "\n",
      "See the caveats in the documentation: http://pandas.pydata.org/pandas-docs/stable/indexing.html#indexing-view-versus-copy\n",
      "  self.obj[item] = s\n"
     ]
    }
   ],
   "source": [
    "X_test.loc[X_test.MSZoning == 'FV'  , 'MSZoning'] = X_train.MSZoning.mode().values[0]\n",
    "X_train.loc[X_train.LotConfig == 'CulDSac'  , 'LotConfig'] = X_train.LotConfig.mode().values[0]\n",
    "X_train.loc[X_train.Neighborhood == 'NWAmes'  , 'Neighborhood'] = X_train.Neighborhood.mode().values[0]\n",
    "X_train.loc[X_train.Neighborhood == 'NridgHt'  , 'Neighborhood'] = X_train.Neighborhood.mode().values[0]\n",
    "X_test.loc[X_test.Neighborhood == 'SawyerW'  , 'Neighborhood'] = X_train.Neighborhood.mode().values[0]\n",
    "X_test.loc[X_test.Neighborhood == 'Sawyer'  , 'Neighborhood'] = X_train.Neighborhood.mode().values[0]\n",
    "X_test.loc[X_test.BsmtQual == 'Fa'  , 'BsmtQual'] = X_train.BsmtQual.mode().values[0]\n",
    "X_test.loc[X_test.BsmtQual == 'NB'  , 'BsmtQual'] = X_train.BsmtQual.mode().values[0]\n",
    "X_test.loc[X_test.BsmtFinType1 == 'LwQ'  , 'BsmtFinType1'] = X_train.BsmtFinType1.mode().values[0]"
   ]
  },
  {
   "cell_type": "code",
   "execution_count": null,
   "metadata": {},
   "outputs": [],
   "source": [
    "for i in X_train.dtypes[ X_train.dtypes == 'object'].index:\n",
    "    print( len(X_train[i].value_counts()) , i )"
   ]
  },
  {
   "cell_type": "code",
   "execution_count": 24,
   "metadata": {},
   "outputs": [
    {
     "data": {
      "text/plain": [
       "(10, 10)"
      ]
     },
     "execution_count": 24,
     "metadata": {},
     "output_type": "execute_result"
    }
   ],
   "source": [
    "v_label_enco = ['LotShape','ExterQual','BsmtQual','BsmtExposure','BsmtFinType1','HeatingQC',\n",
    "                'KitchenQual','FireplaceQu','GarageFinish','Fence']\n",
    "v_Onehot_enco = ['LotConfig','Neighborhood','HouseStyle','RoofStyle','Exterior1st',\n",
    "                 'Exterior2nd','MasVnrType','Foundation','GarageType','MSZoning']\n",
    "\n",
    "len(v_label_enco) , len(v_Onehot_enco)"
   ]
  },
  {
   "cell_type": "code",
   "execution_count": 25,
   "metadata": {},
   "outputs": [],
   "source": [
    "cat_list_dict = { 'LotShape' : ['Reg','IR1','IR2','IR3'],\n",
    "'ExterQual' : ['TA','Gd','Ex','Fa'],\n",
    "'BsmtQual' : ['TA','Gd','Ex','Fa'],\n",
    "'BsmtExposure' : ['Av','No','Gd','Mn'],\n",
    "'BsmtFinType1' : ['BLQ','GLQ','Unf','Rec','ALQ','LwQ'],\n",
    "'HeatingQC' : ['TA','Ex','Gd','Fa'],\n",
    "'KitchenQual' : ['TA','Ex','Gd','Fa'],\n",
    "'FireplaceQu' : ['Missing','TA','Gd','Fa','Po','Ex'],\n",
    "'GarageFinish' : ['Unf','RFn','Fin'],\n",
    "'ExterCond' :  ['TA' ,'Gd' ,'Rare'],\n",
    "'BsmtCond' : ['TA', 'Rare'],\n",
    "'BsmtFinType2' : ['Unf' ,'ALQ', 'Rec' ,'BLQ', 'GLQ' ,'LwQ', 'NB'],\n",
    "'PavedDrive' : ['Y', 'P' ,'N'],\n",
    "'Fence' : ['NA' ,'GdWo', 'GdPrv' ,'MnPrv', 'MnWw']}"
   ]
  },
  {
   "cell_type": "code",
   "execution_count": 26,
   "metadata": {},
   "outputs": [],
   "source": [
    "def label_encoding (df, column):\n",
    "    df[column] = pd.Categorical(df[column] , categories = cat_list_dict[column])\n",
    "    df[column] = df[column].cat.codes"
   ]
  },
  {
   "cell_type": "code",
   "execution_count": 27,
   "metadata": {},
   "outputs": [
    {
     "name": "stderr",
     "output_type": "stream",
     "text": [
      "C:\\Users\\graykar\\Documents\\Annaconda3\\lib\\site-packages\\ipykernel_launcher.py:2: SettingWithCopyWarning: \n",
      "A value is trying to be set on a copy of a slice from a DataFrame.\n",
      "Try using .loc[row_indexer,col_indexer] = value instead\n",
      "\n",
      "See the caveats in the documentation: http://pandas.pydata.org/pandas-docs/stable/indexing.html#indexing-view-versus-copy\n",
      "  \n",
      "C:\\Users\\graykar\\Documents\\Annaconda3\\lib\\site-packages\\ipykernel_launcher.py:3: SettingWithCopyWarning: \n",
      "A value is trying to be set on a copy of a slice from a DataFrame.\n",
      "Try using .loc[row_indexer,col_indexer] = value instead\n",
      "\n",
      "See the caveats in the documentation: http://pandas.pydata.org/pandas-docs/stable/indexing.html#indexing-view-versus-copy\n",
      "  This is separate from the ipykernel package so we can avoid doing imports until\n"
     ]
    }
   ],
   "source": [
    "# Label Encoding\n",
    "\n",
    "for i in v_label_enco:\n",
    "    label_encoding(X_train, i)\n",
    "    \n",
    "# One hot Encoding\n",
    "\n",
    "for i in v_Onehot_enco:\n",
    "    X_train = pd.get_dummies(X_train,columns=[i] , prefix= [i] , drop_first=True)"
   ]
  },
  {
   "cell_type": "code",
   "execution_count": 28,
   "metadata": {},
   "outputs": [
    {
     "data": {
      "text/plain": [
       "(1168, 52)"
      ]
     },
     "execution_count": 28,
     "metadata": {},
     "output_type": "execute_result"
    }
   ],
   "source": [
    "X_train.shape"
   ]
  },
  {
   "cell_type": "code",
   "execution_count": 29,
   "metadata": {},
   "outputs": [],
   "source": [
    "# identify outliers in the training dataset\n",
    "iso = IsolationForest(contamination=0.1)\n",
    "#yhat = iso.fit_predict(X_train)\n",
    "yhat = iso.fit(X_train)\n",
    "\n",
    "X_train_new = X_train[iso.predict(X_train) != -1]"
   ]
  },
  {
   "cell_type": "code",
   "execution_count": 30,
   "metadata": {},
   "outputs": [
    {
     "data": {
      "text/plain": [
       "(1051, 52)"
      ]
     },
     "execution_count": 30,
     "metadata": {},
     "output_type": "execute_result"
    }
   ],
   "source": [
    "X_train_new.shape"
   ]
  },
  {
   "cell_type": "code",
   "execution_count": 31,
   "metadata": {},
   "outputs": [],
   "source": [
    "train_X = X_train_new.loc[: , [x for x in X_train_new.columns if x not in ['SalePrice']] ]\n",
    "train_y = X_train_new['SalePrice']"
   ]
  },
  {
   "cell_type": "code",
   "execution_count": 32,
   "metadata": {},
   "outputs": [
    {
     "data": {
      "text/plain": [
       "((1051, 51), (1051,))"
      ]
     },
     "execution_count": 32,
     "metadata": {},
     "output_type": "execute_result"
    }
   ],
   "source": [
    "train_X.shape , train_y.shape"
   ]
  },
  {
   "cell_type": "code",
   "execution_count": 33,
   "metadata": {},
   "outputs": [
    {
     "data": {
      "text/plain": [
       "0.895316739503042"
      ]
     },
     "execution_count": 33,
     "metadata": {},
     "output_type": "execute_result"
    }
   ],
   "source": [
    "LR = LinearRegression()\n",
    "LR.fit(train_X , train_y)\n",
    "y_pred = LR.predict(train_X)\n",
    "\n",
    "r2_score(train_y, y_pred)"
   ]
  },
  {
   "cell_type": "code",
   "execution_count": null,
   "metadata": {},
   "outputs": [],
   "source": []
  },
  {
   "cell_type": "markdown",
   "metadata": {},
   "source": [
    "# Test Set"
   ]
  },
  {
   "cell_type": "code",
   "execution_count": 15,
   "metadata": {},
   "outputs": [
    {
     "name": "stderr",
     "output_type": "stream",
     "text": [
      "C:\\Users\\graykar\\Documents\\Annaconda3\\lib\\site-packages\\pandas\\core\\frame.py:3694: SettingWithCopyWarning: \n",
      "A value is trying to be set on a copy of a slice from a DataFrame\n",
      "\n",
      "See the caveats in the documentation: http://pandas.pydata.org/pandas-docs/stable/indexing.html#indexing-view-versus-copy\n",
      "  errors=errors)\n"
     ]
    }
   ],
   "source": [
    "X_test.drop(v_null_drop , axis=1, inplace=True)\n",
    "X_test.drop(v_low_var_set , axis=1, inplace=True)\n",
    "X_test.drop(v_corr_drop , axis=1, inplace=True)\n",
    "X_test.drop(['Id'], axis=1, inplace=True)"
   ]
  },
  {
   "cell_type": "code",
   "execution_count": 16,
   "metadata": {},
   "outputs": [
    {
     "name": "stderr",
     "output_type": "stream",
     "text": [
      "C:\\Users\\graykar\\Documents\\Annaconda3\\lib\\site-packages\\ipykernel_launcher.py:1: SettingWithCopyWarning: \n",
      "A value is trying to be set on a copy of a slice from a DataFrame.\n",
      "Try using .loc[row_indexer,col_indexer] = value instead\n",
      "\n",
      "See the caveats in the documentation: http://pandas.pydata.org/pandas-docs/stable/indexing.html#indexing-view-versus-copy\n",
      "  \"\"\"Entry point for launching an IPython kernel.\n",
      "C:\\Users\\graykar\\Documents\\Annaconda3\\lib\\site-packages\\ipykernel_launcher.py:2: SettingWithCopyWarning: \n",
      "A value is trying to be set on a copy of a slice from a DataFrame.\n",
      "Try using .loc[row_indexer,col_indexer] = value instead\n",
      "\n",
      "See the caveats in the documentation: http://pandas.pydata.org/pandas-docs/stable/indexing.html#indexing-view-versus-copy\n",
      "  \n",
      "C:\\Users\\graykar\\Documents\\Annaconda3\\lib\\site-packages\\ipykernel_launcher.py:3: SettingWithCopyWarning: \n",
      "A value is trying to be set on a copy of a slice from a DataFrame.\n",
      "Try using .loc[row_indexer,col_indexer] = value instead\n",
      "\n",
      "See the caveats in the documentation: http://pandas.pydata.org/pandas-docs/stable/indexing.html#indexing-view-versus-copy\n",
      "  This is separate from the ipykernel package so we can avoid doing imports until\n",
      "C:\\Users\\graykar\\Documents\\Annaconda3\\lib\\site-packages\\pandas\\core\\generic.py:5430: SettingWithCopyWarning: \n",
      "A value is trying to be set on a copy of a slice from a DataFrame\n",
      "\n",
      "See the caveats in the documentation: http://pandas.pydata.org/pandas-docs/stable/indexing.html#indexing-view-versus-copy\n",
      "  self._update_inplace(new_data)\n",
      "C:\\Users\\graykar\\Documents\\Annaconda3\\lib\\site-packages\\pandas\\core\\indexing.py:543: SettingWithCopyWarning: \n",
      "A value is trying to be set on a copy of a slice from a DataFrame.\n",
      "Try using .loc[row_indexer,col_indexer] = value instead\n",
      "\n",
      "See the caveats in the documentation: http://pandas.pydata.org/pandas-docs/stable/indexing.html#indexing-view-versus-copy\n",
      "  self.obj[item] = s\n"
     ]
    }
   ],
   "source": [
    "X_test['GarageYrBlt'] = 2020 - X_test['GarageYrBlt']\n",
    "X_test['YearBuilt'] = 2020 - X_test['YearBuilt']\n",
    "X_test['YearRemodAdd'] = 2020 - X_test['YearRemodAdd']\n",
    "\n",
    "LotFrontage_Imputation = X_test.LotFrontage.median()\n",
    "MasVnrType_Imputation = X_test['MasVnrType'].mode().values[0]\n",
    "MasVnrArea_Imputation = X_test['MasVnrArea'].mode().values[0]\n",
    "\n",
    "X_test['LotFrontage'].fillna( LotFrontage_Imputation ,  inplace=True)\n",
    "X_test['MasVnrType'].fillna(MasVnrType_Imputation,  inplace=True)\n",
    "X_test['MasVnrArea'].fillna(MasVnrArea_Imputation,  inplace=True)\n",
    "\n",
    "X_test['BsmtQual'].fillna('NB',  inplace=True)\n",
    "X_test['BsmtExposure'].fillna('NB',  inplace=True)\n",
    "X_test['BsmtFinType1'].fillna('NB',  inplace=True)\n",
    "X_test['FireplaceQu'].fillna('NB',  inplace=True)\n",
    "X_test['GarageType'].fillna('NG',  inplace=True)\n",
    "X_test['GarageYrBlt'].fillna(40,  inplace=True)\n",
    "X_test['GarageFinish'].fillna('NG',  inplace=True)\n",
    "X_test['Fence'].fillna('NA',  inplace=True)\n",
    "\n",
    "# To handle the Outlier for TotalBsmtSF\n",
    "X_test.loc[ X_test['TotalBsmtSF'] [ X_test['TotalBsmtSF'] == 0 ].index , 'TotalBsmtSF'] = X_train['TotalBsmtSF'].mean()"
   ]
  },
  {
   "cell_type": "code",
   "execution_count": 34,
   "metadata": {},
   "outputs": [
    {
     "name": "stderr",
     "output_type": "stream",
     "text": [
      "C:\\Users\\graykar\\Documents\\Annaconda3\\lib\\site-packages\\pandas\\core\\frame.py:3694: SettingWithCopyWarning: \n",
      "A value is trying to be set on a copy of a slice from a DataFrame\n",
      "\n",
      "See the caveats in the documentation: http://pandas.pydata.org/pandas-docs/stable/indexing.html#indexing-view-versus-copy\n",
      "  errors=errors)\n",
      "C:\\Users\\graykar\\Documents\\Annaconda3\\lib\\site-packages\\ipykernel_launcher.py:8: SettingWithCopyWarning: \n",
      "A value is trying to be set on a copy of a slice from a DataFrame.\n",
      "Try using .loc[row_indexer,col_indexer] = value instead\n",
      "\n",
      "See the caveats in the documentation: http://pandas.pydata.org/pandas-docs/stable/indexing.html#indexing-view-versus-copy\n",
      "  \n",
      "C:\\Users\\graykar\\Documents\\Annaconda3\\lib\\site-packages\\ipykernel_launcher.py:2: SettingWithCopyWarning: \n",
      "A value is trying to be set on a copy of a slice from a DataFrame.\n",
      "Try using .loc[row_indexer,col_indexer] = value instead\n",
      "\n",
      "See the caveats in the documentation: http://pandas.pydata.org/pandas-docs/stable/indexing.html#indexing-view-versus-copy\n",
      "  \n",
      "C:\\Users\\graykar\\Documents\\Annaconda3\\lib\\site-packages\\ipykernel_launcher.py:3: SettingWithCopyWarning: \n",
      "A value is trying to be set on a copy of a slice from a DataFrame.\n",
      "Try using .loc[row_indexer,col_indexer] = value instead\n",
      "\n",
      "See the caveats in the documentation: http://pandas.pydata.org/pandas-docs/stable/indexing.html#indexing-view-versus-copy\n",
      "  This is separate from the ipykernel package so we can avoid doing imports until\n"
     ]
    },
    {
     "data": {
      "text/html": [
       "<div>\n",
       "<style scoped>\n",
       "    .dataframe tbody tr th:only-of-type {\n",
       "        vertical-align: middle;\n",
       "    }\n",
       "\n",
       "    .dataframe tbody tr th {\n",
       "        vertical-align: top;\n",
       "    }\n",
       "\n",
       "    .dataframe thead th {\n",
       "        text-align: right;\n",
       "    }\n",
       "</style>\n",
       "<table border=\"1\" class=\"dataframe\">\n",
       "  <thead>\n",
       "    <tr style=\"text-align: right;\">\n",
       "      <th></th>\n",
       "      <th>LotFrontage</th>\n",
       "      <th>LotArea</th>\n",
       "      <th>LotShape</th>\n",
       "      <th>OverallQual</th>\n",
       "      <th>YearBuilt</th>\n",
       "      <th>YearRemodAdd</th>\n",
       "      <th>MasVnrArea</th>\n",
       "      <th>ExterQual</th>\n",
       "      <th>BsmtQual</th>\n",
       "      <th>BsmtExposure</th>\n",
       "      <th>...</th>\n",
       "      <th>Exterior2nd_VinylSd</th>\n",
       "      <th>Exterior2nd_Wd Sdng</th>\n",
       "      <th>MasVnrType_None</th>\n",
       "      <th>MasVnrType_Stone</th>\n",
       "      <th>Foundation_CBlock</th>\n",
       "      <th>Foundation_PConc</th>\n",
       "      <th>GarageType_BuiltIn</th>\n",
       "      <th>GarageType_Detchd</th>\n",
       "      <th>GarageType_NG</th>\n",
       "      <th>MSZoning_RM</th>\n",
       "    </tr>\n",
       "  </thead>\n",
       "  <tbody>\n",
       "    <tr>\n",
       "      <th>258</th>\n",
       "      <td>4.394449</td>\n",
       "      <td>9.428351</td>\n",
       "      <td>0</td>\n",
       "      <td>7</td>\n",
       "      <td>2.995732</td>\n",
       "      <td>2.995732</td>\n",
       "      <td>5.153292</td>\n",
       "      <td>1</td>\n",
       "      <td>1</td>\n",
       "      <td>1</td>\n",
       "      <td>...</td>\n",
       "      <td>1</td>\n",
       "      <td>0</td>\n",
       "      <td>0</td>\n",
       "      <td>0</td>\n",
       "      <td>0</td>\n",
       "      <td>1</td>\n",
       "      <td>0</td>\n",
       "      <td>0</td>\n",
       "      <td>0</td>\n",
       "      <td>0</td>\n",
       "    </tr>\n",
       "    <tr>\n",
       "      <th>267</th>\n",
       "      <td>4.110874</td>\n",
       "      <td>9.036106</td>\n",
       "      <td>0</td>\n",
       "      <td>5</td>\n",
       "      <td>4.406719</td>\n",
       "      <td>3.178054</td>\n",
       "      <td>0.000000</td>\n",
       "      <td>0</td>\n",
       "      <td>0</td>\n",
       "      <td>1</td>\n",
       "      <td>...</td>\n",
       "      <td>0</td>\n",
       "      <td>1</td>\n",
       "      <td>1</td>\n",
       "      <td>0</td>\n",
       "      <td>0</td>\n",
       "      <td>1</td>\n",
       "      <td>0</td>\n",
       "      <td>1</td>\n",
       "      <td>0</td>\n",
       "      <td>0</td>\n",
       "    </tr>\n",
       "    <tr>\n",
       "      <th>288</th>\n",
       "      <td>4.262680</td>\n",
       "      <td>9.192176</td>\n",
       "      <td>1</td>\n",
       "      <td>5</td>\n",
       "      <td>3.988984</td>\n",
       "      <td>3.988984</td>\n",
       "      <td>3.465736</td>\n",
       "      <td>0</td>\n",
       "      <td>0</td>\n",
       "      <td>1</td>\n",
       "      <td>...</td>\n",
       "      <td>0</td>\n",
       "      <td>0</td>\n",
       "      <td>0</td>\n",
       "      <td>0</td>\n",
       "      <td>1</td>\n",
       "      <td>0</td>\n",
       "      <td>0</td>\n",
       "      <td>1</td>\n",
       "      <td>0</td>\n",
       "      <td>0</td>\n",
       "    </tr>\n",
       "    <tr>\n",
       "      <th>649</th>\n",
       "      <td>3.091042</td>\n",
       "      <td>7.568896</td>\n",
       "      <td>0</td>\n",
       "      <td>4</td>\n",
       "      <td>3.931826</td>\n",
       "      <td>3.931826</td>\n",
       "      <td>0.000000</td>\n",
       "      <td>0</td>\n",
       "      <td>1</td>\n",
       "      <td>0</td>\n",
       "      <td>...</td>\n",
       "      <td>1</td>\n",
       "      <td>0</td>\n",
       "      <td>1</td>\n",
       "      <td>0</td>\n",
       "      <td>1</td>\n",
       "      <td>0</td>\n",
       "      <td>0</td>\n",
       "      <td>0</td>\n",
       "      <td>1</td>\n",
       "      <td>1</td>\n",
       "    </tr>\n",
       "    <tr>\n",
       "      <th>1233</th>\n",
       "      <td>4.262680</td>\n",
       "      <td>9.405989</td>\n",
       "      <td>1</td>\n",
       "      <td>5</td>\n",
       "      <td>4.127134</td>\n",
       "      <td>4.127134</td>\n",
       "      <td>5.198497</td>\n",
       "      <td>0</td>\n",
       "      <td>0</td>\n",
       "      <td>1</td>\n",
       "      <td>...</td>\n",
       "      <td>0</td>\n",
       "      <td>0</td>\n",
       "      <td>0</td>\n",
       "      <td>0</td>\n",
       "      <td>1</td>\n",
       "      <td>0</td>\n",
       "      <td>0</td>\n",
       "      <td>0</td>\n",
       "      <td>0</td>\n",
       "      <td>0</td>\n",
       "    </tr>\n",
       "  </tbody>\n",
       "</table>\n",
       "<p>5 rows × 52 columns</p>\n",
       "</div>"
      ],
      "text/plain": [
       "      LotFrontage   LotArea  LotShape  OverallQual  YearBuilt  YearRemodAdd  \\\n",
       "258      4.394449  9.428351         0            7   2.995732      2.995732   \n",
       "267      4.110874  9.036106         0            5   4.406719      3.178054   \n",
       "288      4.262680  9.192176         1            5   3.988984      3.988984   \n",
       "649      3.091042  7.568896         0            4   3.931826      3.931826   \n",
       "1233     4.262680  9.405989         1            5   4.127134      4.127134   \n",
       "\n",
       "      MasVnrArea  ExterQual  BsmtQual  BsmtExposure     ...       \\\n",
       "258     5.153292          1         1             1     ...        \n",
       "267     0.000000          0         0             1     ...        \n",
       "288     3.465736          0         0             1     ...        \n",
       "649     0.000000          0         1             0     ...        \n",
       "1233    5.198497          0         0             1     ...        \n",
       "\n",
       "      Exterior2nd_VinylSd  Exterior2nd_Wd Sdng  MasVnrType_None  \\\n",
       "258                     1                    0                0   \n",
       "267                     0                    1                1   \n",
       "288                     0                    0                0   \n",
       "649                     1                    0                1   \n",
       "1233                    0                    0                0   \n",
       "\n",
       "      MasVnrType_Stone  Foundation_CBlock  Foundation_PConc  \\\n",
       "258                  0                  0                 1   \n",
       "267                  0                  0                 1   \n",
       "288                  0                  1                 0   \n",
       "649                  0                  1                 0   \n",
       "1233                 0                  1                 0   \n",
       "\n",
       "      GarageType_BuiltIn  GarageType_Detchd  GarageType_NG  MSZoning_RM  \n",
       "258                    0                  0              0            0  \n",
       "267                    0                  1              0            0  \n",
       "288                    0                  1              0            0  \n",
       "649                    0                  0              1            1  \n",
       "1233                   0                  0              0            0  \n",
       "\n",
       "[5 rows x 52 columns]"
      ]
     },
     "execution_count": 34,
     "metadata": {},
     "output_type": "execute_result"
    }
   ],
   "source": [
    "# Drop Multi-Colinearity columns\n",
    "\n",
    "X_test.drop(['1stFlrSF','GarageArea','TotRmsAbvGrd','GarageYrBlt'] , axis=1, inplace=True)\n",
    "\n",
    "# Log Transform for Numerical Columns\n",
    "\n",
    "for i in v_log_transform_col:\n",
    "    X_test[i] = np.log(X_test[i]+1)\n",
    "    \n",
    "# Label Encoding\n",
    "for i in v_label_enco:\n",
    "    label_encoding(X_test, i)\n",
    "# One hot Encoding\n",
    "for i in v_Onehot_enco:\n",
    "    X_test = pd.get_dummies(X_test,columns=[i] , prefix= [i] , drop_first=True)\n",
    "\n",
    "X_test.head()"
   ]
  },
  {
   "cell_type": "code",
   "execution_count": 35,
   "metadata": {},
   "outputs": [],
   "source": [
    "yhat_test = iso.fit(X_test)\n",
    "\n",
    "X_test_new = X_test[iso.predict(X_test) != -1]\n",
    "\n",
    "test_X = X_test_new.loc[: , [x for x in X_test_new.columns if x not in ['SalePrice']] ]\n",
    "test_y = X_test_new['SalePrice']"
   ]
  },
  {
   "cell_type": "code",
   "execution_count": 36,
   "metadata": {},
   "outputs": [
    {
     "data": {
      "text/plain": [
       "array([ True,  True,  True,  True,  True,  True,  True,  True,  True,\n",
       "        True,  True,  True,  True,  True,  True,  True,  True,  True,\n",
       "        True,  True,  True,  True,  True,  True,  True,  True,  True,\n",
       "        True,  True,  True,  True,  True,  True,  True,  True,  True,\n",
       "        True,  True,  True,  True,  True,  True,  True,  True,  True,\n",
       "        True,  True,  True,  True,  True,  True])"
      ]
     },
     "execution_count": 36,
     "metadata": {},
     "output_type": "execute_result"
    }
   ],
   "source": [
    "train_X.columns == test_X.columns"
   ]
  },
  {
   "cell_type": "code",
   "execution_count": 37,
   "metadata": {},
   "outputs": [
    {
     "data": {
      "text/plain": [
       "0.8330678682612507"
      ]
     },
     "execution_count": 37,
     "metadata": {},
     "output_type": "execute_result"
    }
   ],
   "source": [
    "y_test_pred = LR.predict(test_X)\n",
    "\n",
    "r2_score(test_y, y_test_pred)"
   ]
  },
  {
   "cell_type": "code",
   "execution_count": null,
   "metadata": {},
   "outputs": [],
   "source": []
  }
 ],
 "metadata": {
  "kernelspec": {
   "display_name": "Python 3",
   "language": "python",
   "name": "python3"
  },
  "language_info": {
   "codemirror_mode": {
    "name": "ipython",
    "version": 3
   },
   "file_extension": ".py",
   "mimetype": "text/x-python",
   "name": "python",
   "nbconvert_exporter": "python",
   "pygments_lexer": "ipython3",
   "version": "3.6.5"
  }
 },
 "nbformat": 4,
 "nbformat_minor": 2
}
